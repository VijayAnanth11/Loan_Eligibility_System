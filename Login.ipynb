{
 "cells": [
  {
   "cell_type": "code",
   "execution_count": null,
   "id": "9867f8e0",
   "metadata": {},
   "outputs": [
    {
     "name": "stdout",
     "output_type": "stream",
     "text": [
      " * Serving Flask app '__main__'\n",
      " * Debug mode: off\n"
     ]
    },
    {
     "name": "stderr",
     "output_type": "stream",
     "text": [
      "WARNING: This is a development server. Do not use it in a production deployment. Use a production WSGI server instead.\n",
      " * Running on http://127.0.0.1:5000\n",
      "Press CTRL+C to quit\n",
      "127.0.0.1 - - [09/Mar/2023 20:17:23] \"GET / HTTP/1.1\" 200 -\n",
      "127.0.0.1 - - [09/Mar/2023 20:17:50] \"GET / HTTP/1.1\" 200 -\n"
     ]
    }
   ],
   "source": [
    "from flask import Flask, request\n",
    "\n",
    "app = Flask(__name__)\n",
    "\n",
    "@app.route('/')\n",
    "def home():\n",
    "    \n",
    "    return '''       \n",
    "    <div>\n",
    "    <div class=\"body\" style=\"margin-left:20rem; margin-top:3rem; background-color:aqua; width:50% ; padding:3rem; height:80%\">  \n",
    "    \n",
    "        <div style=\"display:flex\">     \n",
    "        <h1 style=\"color: darkblue; \">Check Your Own Credibility</h1>\n",
    "        <h2 style=\"color: darkblue; margin-top:3rem \">within Few minutes...</h2>\n",
    "        </div>\n",
    "        \n",
    "        <form method=\"POST\" action=\"/submit\" style=\"margin-left:5rem; margin-top:5rem; \">\n",
    "            <label style=\"margin-right:2rem; font-size:25px\" for=\"name\">User name</label>\n",
    "            <input type=\"text\" id=\"name\" name=\"name\" style=\"padding:10px; border-radius:20px; width:250px; padding-left:15px\"><br><br>\n",
    "            <label style=\"margin-right:2rem; font-size:25px\" for=\"email\">Password</label>\n",
    "            <input type=\"email\" id=\"email\" name=\"email\"  style=\"padding:10px; border-radius:20px; width:250px; padding-left:15px; margin-left:0.5rem\"><br><br> \n",
    "            \n",
    "            <div class=\"food\">\n",
    "            <input type=checkbox >\n",
    "            <label style=\"font-size:17px\"> Remember me </label>\n",
    "            <div>\n",
    "            <input type=submit value=Login style=\"padding:13px; width:130px; background-color:darkblue; color: white; margin-top:1rem; font-weight:bold; border-radius:20px; font-size:18px; margin-left:13rem\">\n",
    "            </div>\n",
    "            </div>\n",
    "            \n",
    "            <div style=\"margin-top:3rem\">\n",
    "            <label style=\"font-size:18px\">New around here ?</label>\n",
    "            <a style=\"font-size:18px; color: blue \">Sign up</a>\n",
    "            </div>\n",
    "        </form>    \n",
    "                                    \n",
    "    </div>\n",
    "    </div>\n",
    "    '''\n",
    "@app.route('/submit', methods=['POST'])\n",
    "def submit():\n",
    "    name = request.form['name']\n",
    "    email = request.form['email']\n",
    "    return f'Thank you for submitting your information, {name} ({email})!'\n",
    "\n",
    "if __name__ == '__main__':\n",
    "    app.run()"
   ]
  },
  {
   "cell_type": "code",
   "execution_count": null,
   "id": "01ea4f87",
   "metadata": {},
   "outputs": [],
   "source": []
  },
  {
   "cell_type": "code",
   "execution_count": null,
   "id": "864e04e9",
   "metadata": {},
   "outputs": [],
   "source": []
  }
 ],
 "metadata": {
  "kernelspec": {
   "display_name": "Python 3 (ipykernel)",
   "language": "python",
   "name": "python3"
  },
  "language_info": {
   "codemirror_mode": {
    "name": "ipython",
    "version": 3
   },
   "file_extension": ".py",
   "mimetype": "text/x-python",
   "name": "python",
   "nbconvert_exporter": "python",
   "pygments_lexer": "ipython3",
   "version": "3.9.13"
  }
 },
 "nbformat": 4,
 "nbformat_minor": 5
}
